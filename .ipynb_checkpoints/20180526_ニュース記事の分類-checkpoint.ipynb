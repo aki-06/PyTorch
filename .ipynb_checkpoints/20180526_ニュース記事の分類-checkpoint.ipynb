{
 "cells": [
  {
   "cell_type": "code",
   "execution_count": 1,
   "metadata": {
    "collapsed": true
   },
   "outputs": [],
   "source": [
    "# OSライブラリの読み込み\n",
    "import os\n",
    "# 正規表現ライブラリの読み込み\n",
    "import re\n",
    "\n",
    "# sklearnライブラリの読み込み\n",
    "from sklearn import datasets, model_selection\n",
    "from sklearn.feature_extraction.text import CountVectorizer\n",
    "from sklearn.feature_extraction.text import TfidfVectorizer\n",
    "\n",
    "# Janomeライブラリの読み込み\n",
    "from janome.tokenizer import Tokenizer\n",
    "from janome.analyzer import Analyzer\n",
    "from janome.tokenfilter import POSKeepFilter\n",
    "\n",
    "# pandas\n",
    "import pandas as pd\n",
    "\n",
    "# numpy\n",
    "import numpy as np"
   ]
  },
  {
   "cell_type": "code",
   "execution_count": null,
   "metadata": {
    "collapsed": true
   },
   "outputs": [],
   "source": [
    "# ニュースフォルダの指定\n",
    "dirs = ['it-life-hack', 'movie-enter']\n",
    "\n",
    "# 各フォルダのファイルを一つずつ読み込んで表示\n",
    "for i, d in enumerate(dirs):\n",
    "    # ファイルの取得\n",
    "    files = os.listdir('./data/text/' + d)\n",
    "    \n",
    "    for file in files:\n",
    "        # ファイルオープンと読み込み\n",
    "        f = open('./data/text/' + d + '/' + file, 'r', encoding='utf-8')\n",
    "        raw = f.read()\n",
    "        \n",
    "        # 正規表現で不要な文字列を除去して表示\n",
    "        reg_raw = re.sub(r'[0-9a-zA-Z]', '', raw)\n",
    "        reg_raw = reg_raw.replace('¥n', '')\n",
    "        print(reg_raw)\n",
    "        \n",
    "        # ファイルクローズ\n",
    "        f.close()"
   ]
  }
 ],
 "metadata": {
  "kernelspec": {
   "display_name": "Python 3",
   "language": "python",
   "name": "python3"
  },
  "language_info": {
   "codemirror_mode": {
    "name": "ipython",
    "version": 3
   },
   "file_extension": ".py",
   "mimetype": "text/x-python",
   "name": "python",
   "nbconvert_exporter": "python",
   "pygments_lexer": "ipython3",
   "version": "3.6.3"
  }
 },
 "nbformat": 4,
 "nbformat_minor": 2
}
